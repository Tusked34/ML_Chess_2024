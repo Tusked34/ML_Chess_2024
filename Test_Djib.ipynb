{
 "cells": [
  {
   "cell_type": "markdown",
   "metadata": {},
   "source": [
    "# Bibliothèques"
   ]
  },
  {
   "cell_type": "code",
   "execution_count": 1,
   "metadata": {},
   "outputs": [],
   "source": [
    "import json\n",
    "import pandas as pd"
   ]
  },
  {
   "cell_type": "markdown",
   "metadata": {},
   "source": [
    "---"
   ]
  },
  {
   "cell_type": "markdown",
   "metadata": {},
   "source": [
    "# Extraction des Data brutes"
   ]
  },
  {
   "cell_type": "code",
   "execution_count": 40,
   "metadata": {},
   "outputs": [
    {
     "ename": "KeyboardInterrupt",
     "evalue": "",
     "output_type": "error",
     "traceback": [
      "\u001b[1;31m---------------------------------------------------------------------------\u001b[0m",
      "\u001b[1;31mKeyboardInterrupt\u001b[0m                         Traceback (most recent call last)",
      "\u001b[1;32m~\\AppData\\Local\\Temp\\ipykernel_14864\\349200134.py\u001b[0m in \u001b[0;36m<module>\u001b[1;34m\u001b[0m\n\u001b[0;32m     33\u001b[0m \u001b[1;31m# Utilisation de la fonction\u001b[0m\u001b[1;33m\u001b[0m\u001b[1;33m\u001b[0m\u001b[0m\n\u001b[0;32m     34\u001b[0m \u001b[0mfile_path\u001b[0m \u001b[1;33m=\u001b[0m \u001b[1;34mr'C:\\Users\\djiju\\Documents\\ML\\data\\lichess_db_eval.jsonl\\lichess_db_eval.jsonl'\u001b[0m  \u001b[1;31m# Remplacez par le chemin de votre fichier\u001b[0m\u001b[1;33m\u001b[0m\u001b[1;33m\u001b[0m\u001b[0m\n\u001b[1;32m---> 35\u001b[1;33m \u001b[0mdf_V1\u001b[0m \u001b[1;33m=\u001b[0m \u001b[0mextract_data\u001b[0m\u001b[1;33m(\u001b[0m\u001b[0mfile_path\u001b[0m\u001b[1;33m,\u001b[0m \u001b[0mmax_rows\u001b[0m\u001b[1;33m=\u001b[0m\u001b[1;36m30000000\u001b[0m\u001b[1;33m)\u001b[0m\u001b[1;33m\u001b[0m\u001b[1;33m\u001b[0m\u001b[0m\n\u001b[0m\u001b[0;32m     36\u001b[0m \u001b[1;33m\u001b[0m\u001b[0m\n\u001b[0;32m     37\u001b[0m \u001b[1;31m# Affiche les premières lignes du DataFrame\u001b[0m\u001b[1;33m\u001b[0m\u001b[1;33m\u001b[0m\u001b[0m\n",
      "\u001b[1;32m~\\AppData\\Local\\Temp\\ipykernel_14864\\349200134.py\u001b[0m in \u001b[0;36mextract_data\u001b[1;34m(file_path, max_rows)\u001b[0m\n\u001b[0;32m      8\u001b[0m                 \u001b[1;32mbreak\u001b[0m\u001b[1;33m\u001b[0m\u001b[1;33m\u001b[0m\u001b[0m\n\u001b[0;32m      9\u001b[0m \u001b[1;33m\u001b[0m\u001b[0m\n\u001b[1;32m---> 10\u001b[1;33m             \u001b[0mposition\u001b[0m \u001b[1;33m=\u001b[0m \u001b[0mjson\u001b[0m\u001b[1;33m.\u001b[0m\u001b[0mloads\u001b[0m\u001b[1;33m(\u001b[0m\u001b[0mline\u001b[0m\u001b[1;33m)\u001b[0m\u001b[1;33m\u001b[0m\u001b[1;33m\u001b[0m\u001b[0m\n\u001b[0m\u001b[0;32m     11\u001b[0m             \u001b[0mfen\u001b[0m \u001b[1;33m=\u001b[0m \u001b[0mposition\u001b[0m\u001b[1;33m.\u001b[0m\u001b[0mget\u001b[0m\u001b[1;33m(\u001b[0m\u001b[1;34m\"fen\"\u001b[0m\u001b[1;33m)\u001b[0m\u001b[1;33m\u001b[0m\u001b[1;33m\u001b[0m\u001b[0m\n\u001b[0;32m     12\u001b[0m \u001b[1;33m\u001b[0m\u001b[0m\n",
      "\u001b[1;32mc:\\Users\\djiju\\anaconda3\\lib\\json\\__init__.py\u001b[0m in \u001b[0;36mloads\u001b[1;34m(s, cls, object_hook, parse_float, parse_int, parse_constant, object_pairs_hook, **kw)\u001b[0m\n\u001b[0;32m    344\u001b[0m             \u001b[0mparse_int\u001b[0m \u001b[1;32mis\u001b[0m \u001b[1;32mNone\u001b[0m \u001b[1;32mand\u001b[0m \u001b[0mparse_float\u001b[0m \u001b[1;32mis\u001b[0m \u001b[1;32mNone\u001b[0m \u001b[1;32mand\u001b[0m\u001b[1;33m\u001b[0m\u001b[1;33m\u001b[0m\u001b[0m\n\u001b[0;32m    345\u001b[0m             parse_constant is None and object_pairs_hook is None and not kw):\n\u001b[1;32m--> 346\u001b[1;33m         \u001b[1;32mreturn\u001b[0m \u001b[0m_default_decoder\u001b[0m\u001b[1;33m.\u001b[0m\u001b[0mdecode\u001b[0m\u001b[1;33m(\u001b[0m\u001b[0ms\u001b[0m\u001b[1;33m)\u001b[0m\u001b[1;33m\u001b[0m\u001b[1;33m\u001b[0m\u001b[0m\n\u001b[0m\u001b[0;32m    347\u001b[0m     \u001b[1;32mif\u001b[0m \u001b[0mcls\u001b[0m \u001b[1;32mis\u001b[0m \u001b[1;32mNone\u001b[0m\u001b[1;33m:\u001b[0m\u001b[1;33m\u001b[0m\u001b[1;33m\u001b[0m\u001b[0m\n\u001b[0;32m    348\u001b[0m         \u001b[0mcls\u001b[0m \u001b[1;33m=\u001b[0m \u001b[0mJSONDecoder\u001b[0m\u001b[1;33m\u001b[0m\u001b[1;33m\u001b[0m\u001b[0m\n",
      "\u001b[1;32mc:\\Users\\djiju\\anaconda3\\lib\\json\\decoder.py\u001b[0m in \u001b[0;36mdecode\u001b[1;34m(self, s, _w)\u001b[0m\n\u001b[0;32m    335\u001b[0m \u001b[1;33m\u001b[0m\u001b[0m\n\u001b[0;32m    336\u001b[0m         \"\"\"\n\u001b[1;32m--> 337\u001b[1;33m         \u001b[0mobj\u001b[0m\u001b[1;33m,\u001b[0m \u001b[0mend\u001b[0m \u001b[1;33m=\u001b[0m \u001b[0mself\u001b[0m\u001b[1;33m.\u001b[0m\u001b[0mraw_decode\u001b[0m\u001b[1;33m(\u001b[0m\u001b[0ms\u001b[0m\u001b[1;33m,\u001b[0m \u001b[0midx\u001b[0m\u001b[1;33m=\u001b[0m\u001b[0m_w\u001b[0m\u001b[1;33m(\u001b[0m\u001b[0ms\u001b[0m\u001b[1;33m,\u001b[0m \u001b[1;36m0\u001b[0m\u001b[1;33m)\u001b[0m\u001b[1;33m.\u001b[0m\u001b[0mend\u001b[0m\u001b[1;33m(\u001b[0m\u001b[1;33m)\u001b[0m\u001b[1;33m)\u001b[0m\u001b[1;33m\u001b[0m\u001b[1;33m\u001b[0m\u001b[0m\n\u001b[0m\u001b[0;32m    338\u001b[0m         \u001b[0mend\u001b[0m \u001b[1;33m=\u001b[0m \u001b[0m_w\u001b[0m\u001b[1;33m(\u001b[0m\u001b[0ms\u001b[0m\u001b[1;33m,\u001b[0m \u001b[0mend\u001b[0m\u001b[1;33m)\u001b[0m\u001b[1;33m.\u001b[0m\u001b[0mend\u001b[0m\u001b[1;33m(\u001b[0m\u001b[1;33m)\u001b[0m\u001b[1;33m\u001b[0m\u001b[1;33m\u001b[0m\u001b[0m\n\u001b[0;32m    339\u001b[0m         \u001b[1;32mif\u001b[0m \u001b[0mend\u001b[0m \u001b[1;33m!=\u001b[0m \u001b[0mlen\u001b[0m\u001b[1;33m(\u001b[0m\u001b[0ms\u001b[0m\u001b[1;33m)\u001b[0m\u001b[1;33m:\u001b[0m\u001b[1;33m\u001b[0m\u001b[1;33m\u001b[0m\u001b[0m\n",
      "\u001b[1;31mKeyboardInterrupt\u001b[0m: "
     ]
    }
   ],
   "source": [
    "# Fonction pour extraire les données depuis le JSONL\n",
    "def extract_data(file_path, max_rows=100000):\n",
    "    data = []\n",
    "    \n",
    "    with open(file_path, 'r') as f:\n",
    "        for idx, line in enumerate(f):\n",
    "            if idx >= max_rows:\n",
    "                break\n",
    "\n",
    "            position = json.loads(line)\n",
    "            fen = position.get(\"fen\")\n",
    "\n",
    "            for eval_data in position.get(\"evals\", []):\n",
    "                knodes = eval_data.get(\"knodes\")\n",
    "                depth = eval_data.get(\"depth\")\n",
    "                \n",
    "                for pv in eval_data.get(\"pvs\", []):\n",
    "                    cp = pv.get(\"cp\")\n",
    "                    mate = pv.get(\"mate\")\n",
    "                    line = pv.get(\"line\")\n",
    "\n",
    "                    data.append({\n",
    "                        \"fen\": fen,\n",
    "                        \"knodes\": knodes,\n",
    "                        \"depth\": depth,\n",
    "                        \"cp\": cp,\n",
    "                        \"mate\": mate,\n",
    "                        \"line\": line\n",
    "                    })\n",
    "\n",
    "    return pd.DataFrame(data)\n",
    "\n",
    "# Utilisation de la fonction\n",
    "file_path = r'C:\\Users\\djiju\\Documents\\ML\\data\\lichess_db_eval.jsonl\\lichess_db_eval.jsonl'  # Remplacez par le chemin de votre fichier\n",
    "df_V1 = extract_data(file_path, max_rows=1000000)\n",
    "\n",
    "# Affiche les premières lignes du DataFrame\n",
    "#df_V1"
   ]
  },
  {
   "cell_type": "markdown",
   "metadata": {},
   "source": [
    "---"
   ]
  },
  {
   "cell_type": "markdown",
   "metadata": {},
   "source": [
    "# Choix de la meilleur evaluation"
   ]
  },
  {
   "cell_type": "markdown",
   "metadata": {},
   "source": [
    "Pour chaques positions, il plusieurs evaluations proposés par stockfish en fonction du nombre de noeuds et de la profondeur de recherche. Le resultat de ces evaluations donnes une \"Ligne\" c'est a dire l'enchainement de meilleurs coup optimums pour chaque joueurs. Par conséquent le meilleur coup est indiqué par le premier coup de la ligne."
   ]
  },
  {
   "cell_type": "markdown",
   "metadata": {},
   "source": [
    "| Type            | Description                                                                                                        |\n",
    "|-----------------|--------------------------------------------------------------------------------------------------------------------|\n",
    "| **knodes**      | Nombre de milliers de nœuds analysés par le moteur d'échecs pendant la recherche de la position.                   |\n",
    "| **depth**       | Profondeur de la recherche, indiquant le nombre de coups (ou niveaux) explorés par le moteur.                     |\n",
    "| **cp**          | Évaluation en centipions, représentant un avantage matériel en fonction du côté actif (positif pour Blancs, négatif pour Noirs). |\n",
    "| **mate**        | Évaluation de mat. Si une valeur est donnée, elle indique le nombre de coups restants avant que le mat soit atteint. |\n"
   ]
  },
  {
   "cell_type": "markdown",
   "metadata": {},
   "source": [
    "Parmis toutes les evaluations proposés pour une même position nous allons uniquement garder la meilleure pour créer notre base de donnée. Pour faire ce choix nous nous basons sur plusieurs critères :\n",
    "\n",
    "1. **Profondeur de recherche (depth)** :\n",
    "   - Plus la profondeur est grande, plus l'analyse est précise.\n",
    "   - Priorisez les évaluations avec la profondeur maximale atteinte.\n",
    "\n",
    "2. **Centipions (cp) ou mat (mate)** :\n",
    "   - Si une évaluation donne un **mate**, elle est prioritaire, car un mat forcé est absolu.\n",
    "   - En absence de **mate**, choisissez l'évaluation avec la valeur **cp** la plus proche de 0 si vous recherchez une position équilibrée, ou la plus élevée pour le joueur actif si vous cherchez un avantage.\n",
    "\n",
    "3. **Nombre de nœuds analysés (knodes)** :\n",
    "   - Si plusieurs évaluations ont la même profondeur, celle ayant exploré le plus grand nombre de nœuds est théoriquement plus fiable.\n",
    "\n",
    "4. **Première variante principale (line)** :\n",
    "   - En cas d’égalité sur les autres critères, utilisez une évaluation arbitraire ou choisissez selon des préférences spécifiques liées aux variantes.\n"
   ]
  },
  {
   "cell_type": "code",
   "execution_count": 298,
   "metadata": {},
   "outputs": [],
   "source": [
    "def filter_best_evaluations(df):\n",
    "    filtered_rows = []\n",
    "\n",
    "    # Grouper par position FEN\n",
    "    for fen, group in df.groupby('fen'):\n",
    "        # Étape 1 : Sélectionner les évaluations avec la profondeur maximale\n",
    "        max_depth = group['depth'].max()\n",
    "        best_evals = group[group['depth'] == max_depth]\n",
    "        \n",
    "        # Étape 2 : Priorité à une évaluation de mat si elle existe\n",
    "        if 'mate' in best_evals and best_evals['mate'].notna().any():\n",
    "            best_row = best_evals.loc[best_evals['mate'].idxmin()]\n",
    "        else:\n",
    "            # Sinon, maximiser la valeur `cp`\n",
    "            best_row = best_evals.loc[best_evals['cp'].idxmax()]\n",
    "        \n",
    "        # Ajouter la meilleure évaluation à la liste\n",
    "        filtered_rows.append(best_row)\n",
    "    \n",
    "    # Créer un nouveau DataFrame avec les meilleures évaluations\n",
    "    return pd.DataFrame(filtered_rows)"
   ]
  },
  {
   "cell_type": "code",
   "execution_count": 299,
   "metadata": {},
   "outputs": [
    {
     "data": {
      "text/html": [
       "<div>\n",
       "<style scoped>\n",
       "    .dataframe tbody tr th:only-of-type {\n",
       "        vertical-align: middle;\n",
       "    }\n",
       "\n",
       "    .dataframe tbody tr th {\n",
       "        vertical-align: top;\n",
       "    }\n",
       "\n",
       "    .dataframe thead th {\n",
       "        text-align: right;\n",
       "    }\n",
       "</style>\n",
       "<table border=\"1\" class=\"dataframe\">\n",
       "  <thead>\n",
       "    <tr style=\"text-align: right;\">\n",
       "      <th></th>\n",
       "      <th>fen</th>\n",
       "      <th>knodes</th>\n",
       "      <th>depth</th>\n",
       "      <th>cp</th>\n",
       "      <th>mate</th>\n",
       "      <th>line</th>\n",
       "    </tr>\n",
       "  </thead>\n",
       "  <tbody>\n",
       "    <tr>\n",
       "      <th>38</th>\n",
       "      <td>6k1/4Rppp/8/8/8/8/5PPP/6K1 w - -</td>\n",
       "      <td>154</td>\n",
       "      <td>99</td>\n",
       "      <td>NaN</td>\n",
       "      <td>1.0</td>\n",
       "      <td>e7e8</td>\n",
       "    </tr>\n",
       "    <tr>\n",
       "      <th>22</th>\n",
       "      <td>6k1/6p1/8/4K3/4NN2/8/8/8 w - -</td>\n",
       "      <td>4300494</td>\n",
       "      <td>87</td>\n",
       "      <td>NaN</td>\n",
       "      <td>18.0</td>\n",
       "      <td>e4d6 g8h7 e5f5 g7g5 f4h5 h7h6 h5g3 h6g7 f5e6 g7f8</td>\n",
       "    </tr>\n",
       "    <tr>\n",
       "      <th>0</th>\n",
       "      <td>7r/1p3k2/p1bPR3/5p2/2B2P1p/8/PP4P1/3K4 b - -</td>\n",
       "      <td>200973</td>\n",
       "      <td>39</td>\n",
       "      <td>58.0</td>\n",
       "      <td>NaN</td>\n",
       "      <td>f7g7 e6e2 h8d8 e2d2 b7b5 c4e6 g7f6 e6b3 a6a5 a2a3</td>\n",
       "    </tr>\n",
       "    <tr>\n",
       "      <th>15</th>\n",
       "      <td>8/4r3/2R2pk1/6pp/3P4/6P1/5K1P/8 b - -</td>\n",
       "      <td>491568</td>\n",
       "      <td>58</td>\n",
       "      <td>0.0</td>\n",
       "      <td>NaN</td>\n",
       "      <td>e7a7 f2e3 a7a3 e3e4 a3a2 h2h4 g5h4 g3h4 a2h2 c6c1</td>\n",
       "    </tr>\n",
       "    <tr>\n",
       "      <th>33</th>\n",
       "      <td>r1b2rk1/1p2bppp/p1nppn2/q7/2P1P3/N1N5/PP2BPPP/...</td>\n",
       "      <td>72553</td>\n",
       "      <td>25</td>\n",
       "      <td>30.0</td>\n",
       "      <td>NaN</td>\n",
       "      <td>f1e1 c8d7 c1e3 d6d5 c4d5 e7a3 b2a3 a5c3 d5c6 d7c6</td>\n",
       "    </tr>\n",
       "  </tbody>\n",
       "</table>\n",
       "</div>"
      ],
      "text/plain": [
       "                                                  fen   knodes  depth    cp  \\\n",
       "38                   6k1/4Rppp/8/8/8/8/5PPP/6K1 w - -      154     99   NaN   \n",
       "22                     6k1/6p1/8/4K3/4NN2/8/8/8 w - -  4300494     87   NaN   \n",
       "0        7r/1p3k2/p1bPR3/5p2/2B2P1p/8/PP4P1/3K4 b - -   200973     39  58.0   \n",
       "15              8/4r3/2R2pk1/6pp/3P4/6P1/5K1P/8 b - -   491568     58   0.0   \n",
       "33  r1b2rk1/1p2bppp/p1nppn2/q7/2P1P3/N1N5/PP2BPPP/...    72553     25  30.0   \n",
       "\n",
       "    mate                                               line  \n",
       "38   1.0                                               e7e8  \n",
       "22  18.0  e4d6 g8h7 e5f5 g7g5 f4h5 h7h6 h5g3 h6g7 f5e6 g7f8  \n",
       "0    NaN  f7g7 e6e2 h8d8 e2d2 b7b5 c4e6 g7f6 e6b3 a6a5 a2a3  \n",
       "15   NaN  e7a7 f2e3 a7a3 e3e4 a3a2 h2h4 g5h4 g3h4 a2h2 c6c1  \n",
       "33   NaN  f1e1 c8d7 c1e3 d6d5 c4d5 e7a3 b2a3 a5c3 d5c6 d7c6  "
      ]
     },
     "execution_count": 299,
     "metadata": {},
     "output_type": "execute_result"
    }
   ],
   "source": [
    "df_best_eval = filter_best_evaluations(df_V1)\n",
    "df_best_eval"
   ]
  },
  {
   "cell_type": "markdown",
   "metadata": {},
   "source": [
    "# Autres Méthodes \n",
    "\n",
    "On récupère le coup le plus joué"
   ]
  },
  {
   "cell_type": "code",
   "execution_count": 38,
   "metadata": {},
   "outputs": [],
   "source": [
    "df_V1.to_csv('C:\\\\Users\\\\djiju\\\\Documents\\\\ML\\\\data\\\\test_df.csv', sep=';', encoding='utf-8', index=False)"
   ]
  },
  {
   "cell_type": "code",
   "execution_count": 39,
   "metadata": {},
   "outputs": [
    {
     "name": "stdout",
     "output_type": "stream",
     "text": [
      "                                                       fen line_first_move\n",
      "0         1B1R4/4r1bk/1pb1B1pp/2p5/8/P1P3P1/5P1P/6K1 b - -            c6e8\n",
      "3             1B1b4/2p2ppp/Bp2b3/3k4/1P6/P7/2K2PPP/8 b - -            d5c6\n",
      "6             1B1b4/2p2ppp/Bp2b3/8/1P2k3/P7/2K2PPP/8 w - -            a3a4\n",
      "11                    1B1b4/8/2pP2p1/5p2/k7/8/5PK1/8 b - -            d8b6\n",
      "14                         1B1b4/8/8/8/4k1P1/6K1/8/8 w - -            b8a7\n",
      "...                                                    ...             ...\n",
      "3138376  rrrrkrrr/ppp1p1pp/8/5p2/4P3/5P2/PPP3PP/RRRRKRR...            d8d6\n",
      "3138377  rrrrkrrr/ppppp1pp/8/5p2/4P3/3P4/PPP2PPP/RRRRKR...            d7d5\n",
      "3138378  rrrrkrrr/ppppp1pp/8/5p2/8/3P4/PPP1PPPP/RRRRKRR...            f2f4\n",
      "3138379  rrrrkrrr/pppppppp/8/8/8/3P4/PPP1PPPP/RRRRKRRR ...            f7f5\n",
      "3138383  rrrrkrrr/pppppppp/8/8/8/8/PPPPPPPP/RRRRKRRR w ...            g2g4\n",
      "\n",
      "[1000000 rows x 2 columns]\n"
     ]
    }
   ],
   "source": [
    "df=pd.read_csv('C:\\\\Users\\\\djiju\\\\Documents\\\\ML\\\\data\\\\test_df.csv', sep=';')\n",
    "df['line_first_move'] = df['line'].str[:4]\n",
    "df_new=df.iloc[:, [0, -1]]\n",
    "df_new\n",
    "\n",
    "# Trouver le move le plus joué par FEN\n",
    "most_played_moves = (\n",
    "    df_new.groupby([\"fen\", \"line_first_move\"])\n",
    "    .size()  # Compter les occurrences\n",
    "    .reset_index(name=\"count\")  # Renommer la colonne des comptes\n",
    "    .sort_values([\"fen\", \"count\"], ascending=[True, False])  # Trier par FEN et par fréquence décroissante\n",
    "    .drop_duplicates(subset=\"fen\")  # Garder uniquement le premier (le plus fréquent) pour chaque FEN\n",
    ")\n",
    "# Conserver uniquement les colonnes fen et le move le plus fréquent\n",
    "result = most_played_moves[[\"fen\", \"line_first_move\"]]\n",
    "# Afficher le résultat\n",
    "print(result)\n",
    "#df_new=df['fen','line_first_move']"
   ]
  },
  {
   "cell_type": "markdown",
   "metadata": {},
   "source": [
    "# Transformations des Données"
   ]
  },
  {
   "cell_type": "code",
   "execution_count": 300,
   "metadata": {},
   "outputs": [],
   "source": [
    "import chess"
   ]
  },
  {
   "cell_type": "markdown",
   "metadata": {},
   "source": [
    "### 1. Extraction de l'État de l'Échiquier à partir de la FEN"
   ]
  },
  {
   "cell_type": "markdown",
   "metadata": {},
   "source": [
    "La colonne fen du dataframe contient la notation FEN (Forsyth-Edwards Notation), qui est utilisée pour décrire l'état d'un échiquier. Il faut convertir cette notation en une matrice 8x8 qui représente l'état de l'échiquier."
   ]
  },
  {
   "cell_type": "code",
   "execution_count": 301,
   "metadata": {},
   "outputs": [],
   "source": [
    "def fen_to_board_state(fen):\n",
    "    board = chess.Board(fen)\n",
    "    board_state = []\n",
    "    for rank in range(8):\n",
    "        row = []\n",
    "        for file in range(8):\n",
    "            piece = board.piece_at(chess.square(file, 7-rank))\n",
    "            if piece:\n",
    "                row.append(piece.piece_type if piece.color == chess.WHITE else -piece.piece_type)\n",
    "            else:\n",
    "                row.append(0)\n",
    "        board_state.append(row)\n",
    "    return board_state"
   ]
  },
  {
   "cell_type": "markdown",
   "metadata": {},
   "source": [
    "### 2. Determination du Tour"
   ]
  },
  {
   "cell_type": "markdown",
   "metadata": {},
   "source": [
    "La colonne Turn (White ou Black) correspond au joueur qui doit jouer. Si le FEN se termine par w, c'est au tour des blancs, sinon, c'est au tour des noirs."
   ]
  },
  {
   "cell_type": "code",
   "execution_count": 302,
   "metadata": {},
   "outputs": [],
   "source": [
    "def get_turn(fen):\n",
    "    return \"White\" if fen.endswith('w') else \"Black\""
   ]
  },
  {
   "cell_type": "markdown",
   "metadata": {},
   "source": [
    "### 3. Calcul des Droits au Roque"
   ]
  },
  {
   "cell_type": "markdown",
   "metadata": {},
   "source": [
    "Les droits au roque sont contenus dans le FEN, dans la partie juste avant le nombre de coups.\n",
    " Il y a 16 combinaisons possibles, qui sont donnée via le tableau ci-dessous :"
   ]
  },
  {
   "cell_type": "markdown",
   "metadata": {},
   "source": [
    "| Notation | Description                          | Couleur  | Type de Roque           | Cases impliquées                  |\n",
    "|----------|--------------------------------------|----------|-------------------------|-----------------------------------|\n",
    "| K        | Petit roque côté roi possible        | Blancs   | Petit roque (côté roi)  | Roi : e1 → g1, Tour : h1 → f1    |\n",
    "| Q        | Grand roque côté dame possible       | Blancs   | Grand roque (côté dame) | Roi : e1 → c1, Tour : a1 → d1    |\n",
    "| k        | Petit roque côté roi possible        | Noirs    | Petit roque (côté roi)  | Roi : e8 → g8, Tour : h8 → f8    |\n",
    "| q        | Grand roque côté dame possible       | Noirs    | Grand roque (côté dame) | Roi : e8 → c8, Tour : a8 → d8    |\n",
    "| -        | Aucun roque possible                 | Blancs/Noirs | Aucun                | Aucun                             |\n",
    "\n",
    "Exemple : **KQkq** -> Les deux camps peuvent roquer de chaque côté.\n"
   ]
  },
  {
   "cell_type": "code",
   "execution_count": 303,
   "metadata": {},
   "outputs": [],
   "source": [
    "def get_castling(fen):\n",
    "    return fen.split()[2]"
   ]
  },
  {
   "cell_type": "markdown",
   "metadata": {},
   "source": [
    "### 4. Numéro du Coup"
   ]
  },
  {
   "cell_type": "markdown",
   "metadata": {},
   "source": [
    "Les numéros de coups sont également dans la notation FEN."
   ]
  },
  {
   "cell_type": "code",
   "execution_count": 304,
   "metadata": {},
   "outputs": [],
   "source": [
    "def get_fullmove_number(fen):\n",
    "    # Vérifier si la chaîne FEN a suffisamment de parties\n",
    "    parts = fen.split()\n",
    "    if len(parts) >= 6:\n",
    "        return int(parts[5])\n",
    "    else:\n",
    "        # Retourner une valeur par défaut ou traiter le cas où le fullmove est absent\n",
    "        return None  # ou une autre valeur selon votre besoin\n"
   ]
  },
  {
   "cell_type": "markdown",
   "metadata": {},
   "source": [
    "### 5. Détermination des Coups Légaux et du Meilleur Coup"
   ]
  },
  {
   "cell_type": "markdown",
   "metadata": {},
   "source": [
    "La colonne Legal Moves et Best Move nécessitent une analyse des coups légaux et du meilleur coup."
   ]
  },
  {
   "cell_type": "code",
   "execution_count": null,
   "metadata": {},
   "outputs": [],
   "source": []
  },
  {
   "cell_type": "markdown",
   "metadata": {},
   "source": [
    "### 6. Pars Fen"
   ]
  },
  {
   "cell_type": "markdown",
   "metadata": {},
   "source": [
    "La fonction parse_fen est utilisée pour convertir la chaîne FEN (Forsyth-Edwards Notation) en une matrice 8x8 qui représente l'état actuel de l'échiquier d'échecs"
   ]
  },
  {
   "cell_type": "code",
   "execution_count": 305,
   "metadata": {},
   "outputs": [],
   "source": [
    "def parse_fen(fen):\n",
    "    board_state = []\n",
    "    rows = fen.split()[0].split('/')\n",
    "    \n",
    "    for row in rows:\n",
    "        board_row = []\n",
    "        for char in row:\n",
    "            if char.isdigit():  # Si c'est un chiffre, on ajoute des cases vides\n",
    "                board_row.extend([0] * int(char))\n",
    "            else:\n",
    "                # Convertir les pièces en valeurs numériques\n",
    "                piece_values = {\n",
    "                    'K': 6, 'Q': 5, 'R': 4, 'B': 3, 'N': 2, 'P': 1,\n",
    "                    'k': -6, 'q': -5, 'r': -4, 'b': -3, 'n': -2, 'p': -1\n",
    "                }\n",
    "                board_row.append(piece_values.get(char, 0))\n",
    "        board_state.append(board_row)\n",
    "    \n",
    "    return board_state"
   ]
  },
  {
   "cell_type": "markdown",
   "metadata": {},
   "source": [
    "### 7. Assembler toutes les Colonnes"
   ]
  },
  {
   "cell_type": "markdown",
   "metadata": {},
   "source": [
    "Une fois toutes les fonctions définies, il faut créer une nouvelle structure pour le dataframe. CAD itérer sur chaque ligne du dataframe actuel, appliquer ces transformations, puis créer les nouvelles colonnes. "
   ]
  },
  {
   "cell_type": "code",
   "execution_count": 306,
   "metadata": {},
   "outputs": [],
   "source": [
    "def transform_data(row):\n",
    "    fen = row['fen']\n",
    "    line = row['line']\n",
    "    \n",
    "    # Extraire les informations de FEN\n",
    "    board_state = parse_fen(fen)  # Une fonction pour convertir la FEN en matrice 8x8\n",
    "    turn = get_turn(fen)\n",
    "    castling = get_castling(fen)\n",
    "    fullmove_number = get_fullmove_number(fen)\n",
    "    \n",
    "    # Créer la ligne du dataframe avec les informations nécessaires\n",
    "    return {\n",
    "        'Board_State': board_state,\n",
    "        'Turn': turn,\n",
    "        'Castling': castling,\n",
    "        'Fullmove Number': fullmove_number\n",
    "    }"
   ]
  },
  {
   "cell_type": "markdown",
   "metadata": {},
   "source": [
    "Appliquer les transformations"
   ]
  },
  {
   "cell_type": "code",
   "execution_count": 307,
   "metadata": {},
   "outputs": [],
   "source": [
    "# Appliquer la transformation sur chaque ligne du DataFrame\n",
    "df_cleaned = df_best_eval.apply(transform_data, axis=1, result_type='expand')"
   ]
  },
  {
   "cell_type": "code",
   "execution_count": 308,
   "metadata": {},
   "outputs": [
    {
     "name": "stdout",
     "output_type": "stream",
     "text": [
      "                                         Board_State   Turn Castling  \\\n",
      "0  [[0, 0, 0, 0, 0, 0, -6, 0], [0, 0, 0, 0, 4, -1...  Black        -   \n",
      "1  [[0, 0, 0, 0, 0, 0, -6, 0], [0, 0, 0, 0, 0, 0,...  Black        -   \n",
      "2  [[0, 0, 0, 0, 0, 0, 0, -4], [0, -1, 0, 0, 0, -...  Black        -   \n",
      "3  [[0, 0, 0, 0, 0, 0, 0, 0], [0, 0, 0, 0, -4, 0,...  Black        -   \n",
      "4  [[-4, 0, -3, 0, 0, -4, -6, 0], [0, -1, 0, 0, -...  Black        -   \n",
      "\n",
      "  Fullmove_Number  \n",
      "0            None  \n",
      "1            None  \n",
      "2            None  \n",
      "3            None  \n",
      "4            None  \n"
     ]
    }
   ],
   "source": [
    "df_transformed = pd.DataFrame(df_cleaned.values.tolist(),columns=[\"Board_State\", \"Turn\", \"Castling\", \"Fullmove_Number\"])\n",
    "print(df_transformed.head(16))"
   ]
  }
 ],
 "metadata": {
  "kernelspec": {
   "display_name": "base",
   "language": "python",
   "name": "python3"
  },
  "language_info": {
   "codemirror_mode": {
    "name": "ipython",
    "version": 3
   },
   "file_extension": ".py",
   "mimetype": "text/x-python",
   "name": "python",
   "nbconvert_exporter": "python",
   "pygments_lexer": "ipython3",
   "version": "3.9.13"
  }
 },
 "nbformat": 4,
 "nbformat_minor": 2
}
