{
 "cells": [
  {
   "cell_type": "markdown",
   "metadata": {},
   "source": [
    "# **1. Fonctionnalités de la bibliothèque `chess`**"
   ]
  },
  {
   "cell_type": "markdown",
   "metadata": {},
   "source": [
    "## A. Plateau **`chess.Board`**\n",
    "\n",
    "Le plateau représente la position actuelle de la partie\n",
    "\n",
    "Les coups jouables sur le plateau sont sous un format specifique :\n",
    "- **`uci` (Universal Chess Interface)** : Notation universelle (e.g., `\"e2e4\"`).\n",
    "- **`san` (Standard Algebraic Notation)** : Notation algébrique standard (e.g., `\"e4\"`).\n",
    "\n",
    "Exemple :\n",
    "```python\n",
    "move = chess.Move.from_uci(\"e2e4\")  # Création d'un coup depuis la notation UCI\n",
    "board.push(move)  # Joue le coup sur le plateau\n",
    "```\n",
    "---\n",
    "## B. Méthodes importantes\n",
    "\n",
    "- **`legal_moves`** : Renvoie une liste des coups légaux.\n",
    "- **`push(move)`** : Joue un coup.\n",
    "- **`is_game_over()`** : Vérifie si la partie est terminée.\n",
    "- **`result()`** : Retourne le résultat de la partie (e.g., `\"1-0\"`, `\"0-1\"`, `\"1/2-1/2\"`).\n",
    "\n",
    "**Coups légaux `legal_moves` :**\n",
    "\n",
    "Cette méthode retourne un générateur de tous les coups légaux depuis la position actuelle. Transformer ce générateur en liste permet d'explorer ou sélectionner des coups.\n",
    "\n",
    "```python\n",
    "legal_moves = list(board.legal_moves)  # Obtenir une liste de coups légaux\n",
    "```\n",
    "\n",
    "**Pousser une Pièce `push(move)`**\n",
    "\n",
    "Joue un coup sur le plateau en modifiant la position actuelle.\n",
    "\n",
    "```python\n",
    "move = chess.Move.from_uci(\"e2e4\")  # Création d'un coup\n",
    "board.push(move)  # Joue le coup sur le plateau\n",
    "print(board)  # Affiche le plateau après le coup\n",
    "```\n",
    "---\n",
    "\n",
    "## C. Cas d'une Partie Automatique\n",
    "\n",
    "Dans l'exemple ci-dessous, ia1 et ia2 sont des fonctions qui prennent en entrée la position du plateau et donne en sortie le coup a jouer \n",
    "\n",
    "```python\n",
    "def play_game(ia1, ia2):\n",
    "    board = chess.Board()  # Plateau initialisé à la position de départ\n",
    "\n",
    "    while not board.is_game_over():\n",
    "        if board.turn:  # Tour des Blancs\n",
    "            move = ia1(board)\n",
    "        else:  # Tour des Noirs\n",
    "            move = ia2(board)\n",
    "\n",
    "        move_obj = chess.Move.from_uci(move)  # Convertir le coup\n",
    "        if move_obj in board.legal_moves:\n",
    "            board.push(move_obj)  # Joue le coup\n",
    "\n",
    "    print(\"Partie terminée !\")\n",
    "    print(f\"Résultat : {board.result()}\")\n",
    "```\n"
   ]
  },
  {
   "cell_type": "markdown",
   "metadata": {},
   "source": [
    "# **2. Definition des Fonctions pour Jouer**"
   ]
  },
  {
   "cell_type": "code",
   "execution_count": 22,
   "metadata": {},
   "outputs": [],
   "source": [
    "import chess\n",
    "import random"
   ]
  },
  {
   "cell_type": "markdown",
   "metadata": {},
   "source": [
    "## **A. Partie Automatique entre 2 IA**"
   ]
  },
  {
   "cell_type": "markdown",
   "metadata": {},
   "source": [
    "Initialise la partie puis prend chaque coup proposer par les IA a chaque tour tout en verifiant que le coup est légale et ensuite affiche le résultat"
   ]
  },
  {
   "cell_type": "code",
   "execution_count": 23,
   "metadata": {},
   "outputs": [],
   "source": [
    "# Fonction pour faire jouer deux IA automatiquement\n",
    "def play_game(ia1, ia2):\n",
    "    board = chess.Board()  # Plateau initialisé à la position de départ\n",
    "    print(\"Début de la partie !\")\n",
    "    print(board)\n",
    "\n",
    "    while not board.is_game_over():  # Tant que la partie n'est pas terminée\n",
    "        if board.turn:  # Blancs\n",
    "            move = ia1(board)\n",
    "        else:  # Noirs\n",
    "            move = ia2(board)\n",
    "\n",
    "        # Convertir le coup en objet Move et jouer\n",
    "        move_obj = chess.Move.from_uci(move)\n",
    "        if move_obj in board.legal_moves:\n",
    "            board.push(move_obj)\n",
    "        else:\n",
    "            print(f\"Erreur : coup illégal {move}\")\n",
    "            break\n",
    "        \n",
    "        print(board, \"\\n\")\n",
    "\n",
    "    print(\"Partie terminée !\")\n",
    "    print(f\"Résultat : {board.result()}\")"
   ]
  },
  {
   "cell_type": "markdown",
   "metadata": {},
   "source": [
    "## **B. IA de Test**"
   ]
  },
  {
   "cell_type": "markdown",
   "metadata": {},
   "source": [
    "IA jouant un coup legale aleatoire"
   ]
  },
  {
   "cell_type": "code",
   "execution_count": 24,
   "metadata": {},
   "outputs": [],
   "source": [
    "def random_player(board):\n",
    "    legal_moves = list(board.legal_moves)  # Liste des coups légaux\n",
    "    return random.choice(legal_moves)  # Choix aléatoire"
   ]
  },
  {
   "cell_type": "markdown",
   "metadata": {},
   "source": [
    "IA jouant le premier coup legal proposé"
   ]
  },
  {
   "cell_type": "code",
   "execution_count": 25,
   "metadata": {},
   "outputs": [],
   "source": [
    "def dummy_player(board):\n",
    "    # Exemple d'IA qui renvoie toujours un coup valide (à adapter selon votre IA)\n",
    "    legal_moves = list(board.legal_moves)\n",
    "    return legal_moves[0].uci()  # Prend le premier coup légal (dummy behavior)"
   ]
  },
  {
   "cell_type": "markdown",
   "metadata": {},
   "source": [
    "# **3. Definition des Fonctions pour Jouer**"
   ]
  },
  {
   "cell_type": "code",
   "execution_count": 26,
   "metadata": {},
   "outputs": [
    {
     "name": "stdout",
     "output_type": "stream",
     "text": [
      "Début de la partie !\n",
      "r n b q k b n r\n",
      "p p p p p p p p\n",
      ". . . . . . . .\n",
      ". . . . . . . .\n",
      ". . . . . . . .\n",
      ". . . . . . . .\n",
      "P P P P P P P P\n",
      "R N B Q K B N R\n"
     ]
    },
    {
     "ename": "TypeError",
     "evalue": "object of type 'Move' has no len()",
     "output_type": "error",
     "traceback": [
      "\u001b[1;31m---------------------------------------------------------------------------\u001b[0m",
      "\u001b[1;31mTypeError\u001b[0m                                 Traceback (most recent call last)",
      "Cell \u001b[1;32mIn[26], line 2\u001b[0m\n\u001b[0;32m      1\u001b[0m \u001b[38;5;66;03m# Affronter IA_Play (fixe) contre Random Player\u001b[39;00m\n\u001b[1;32m----> 2\u001b[0m \u001b[43mplay_game\u001b[49m\u001b[43m(\u001b[49m\u001b[43mrandom_player\u001b[49m\u001b[43m,\u001b[49m\u001b[43m \u001b[49m\u001b[43mrandom_player\u001b[49m\u001b[43m)\u001b[49m\n",
      "Cell \u001b[1;32mIn[23], line 14\u001b[0m, in \u001b[0;36mplay_game\u001b[1;34m(ia1, ia2)\u001b[0m\n\u001b[0;32m     11\u001b[0m     move \u001b[38;5;241m=\u001b[39m ia2(board)\n\u001b[0;32m     13\u001b[0m \u001b[38;5;66;03m# Convertir le coup en objet Move et jouer\u001b[39;00m\n\u001b[1;32m---> 14\u001b[0m move_obj \u001b[38;5;241m=\u001b[39m \u001b[43mchess\u001b[49m\u001b[38;5;241;43m.\u001b[39;49m\u001b[43mMove\u001b[49m\u001b[38;5;241;43m.\u001b[39;49m\u001b[43mfrom_uci\u001b[49m\u001b[43m(\u001b[49m\u001b[43mmove\u001b[49m\u001b[43m)\u001b[49m\n\u001b[0;32m     15\u001b[0m \u001b[38;5;28;01mif\u001b[39;00m move_obj \u001b[38;5;129;01min\u001b[39;00m board\u001b[38;5;241m.\u001b[39mlegal_moves:\n\u001b[0;32m     16\u001b[0m     board\u001b[38;5;241m.\u001b[39mpush(move_obj)\n",
      "File \u001b[1;32mc:\\Users\\theol\\anaconda3\\lib\\site-packages\\chess\\__init__.py:694\u001b[0m, in \u001b[0;36mMove.from_uci\u001b[1;34m(cls, uci)\u001b[0m\n\u001b[0;32m    692\u001b[0m \u001b[38;5;28;01mif\u001b[39;00m uci \u001b[38;5;241m==\u001b[39m \u001b[38;5;124m\"\u001b[39m\u001b[38;5;124m0000\u001b[39m\u001b[38;5;124m\"\u001b[39m:\n\u001b[0;32m    693\u001b[0m     \u001b[38;5;28;01mreturn\u001b[39;00m \u001b[38;5;28mcls\u001b[39m\u001b[38;5;241m.\u001b[39mnull()\n\u001b[1;32m--> 694\u001b[0m \u001b[38;5;28;01melif\u001b[39;00m \u001b[38;5;28;43mlen\u001b[39;49m\u001b[43m(\u001b[49m\u001b[43muci\u001b[49m\u001b[43m)\u001b[49m \u001b[38;5;241m==\u001b[39m \u001b[38;5;241m4\u001b[39m \u001b[38;5;129;01mand\u001b[39;00m \u001b[38;5;124m\"\u001b[39m\u001b[38;5;124m@\u001b[39m\u001b[38;5;124m\"\u001b[39m \u001b[38;5;241m==\u001b[39m uci[\u001b[38;5;241m1\u001b[39m]:\n\u001b[0;32m    695\u001b[0m     \u001b[38;5;28;01mtry\u001b[39;00m:\n\u001b[0;32m    696\u001b[0m         drop \u001b[38;5;241m=\u001b[39m PIECE_SYMBOLS\u001b[38;5;241m.\u001b[39mindex(uci[\u001b[38;5;241m0\u001b[39m]\u001b[38;5;241m.\u001b[39mlower())\n",
      "\u001b[1;31mTypeError\u001b[0m: object of type 'Move' has no len()"
     ]
    }
   ],
   "source": [
    "# Affronter IA_Play (fixe) contre Random Player\n",
    "play_game(random_player, random_player)"
   ]
  }
 ],
 "metadata": {
  "kernelspec": {
   "display_name": "base",
   "language": "python",
   "name": "python3"
  },
  "language_info": {
   "codemirror_mode": {
    "name": "ipython",
    "version": 3
   },
   "file_extension": ".py",
   "mimetype": "text/x-python",
   "name": "python",
   "nbconvert_exporter": "python",
   "pygments_lexer": "ipython3",
   "version": "3.10.9"
  }
 },
 "nbformat": 4,
 "nbformat_minor": 2
}
